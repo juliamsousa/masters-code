{
 "cells": [
  {
   "cell_type": "markdown",
   "id": "8b67968e-6707-427d-954f-c22daad8dcf0",
   "metadata": {},
   "source": [
    "# Trabalho Final - Redes Complexas¶\n",
    "\n",
    "Código contendo o trabalho final desenvolvido na disciplina de Redes Complexas\n"
   ]
  },
  {
   "cell_type": "code",
   "execution_count": 2,
   "id": "e732591c-3560-41bf-93b8-72bcf25d1090",
   "metadata": {},
   "outputs": [],
   "source": [
    "# Importando as bibliotecas necessárias\n",
    "import matplotlib.pyplot as plt\n",
    "import numpy as np\n",
    "from mplsoccer import Pitch, Sbopen\n",
    "import pandas as pd\n",
    "import networkx as nx\n",
    "import seaborn as sns"
   ]
  },
  {
   "cell_type": "code",
   "execution_count": 3,
   "id": "6251cf5e-8529-4999-aa8f-31c807d90215",
   "metadata": {},
   "outputs": [
    {
     "data": {
      "text/plain": [
       "array([\"Australia Women's\", \"Spain Women's\", \"Sweden Women's\",\n",
       "       \"Brazil Women's\", \"Netherlands Women's\", \"Japan Women's\",\n",
       "       \"Nigeria Women's\", \"Colombia Women's\", \"England Women's\",\n",
       "       \"United States Women's\", \"France Women's\", \"Portugal Women's\",\n",
       "       \"Switzerland Women's\", \"Costa Rica Women's\", \"Argentina Women's\",\n",
       "       \"China PR Women's\", \"Canada Women's\", \"Philippines Women's\",\n",
       "       \"New Zealand Women's\", \"Morocco Women's\", \"Korea Republic Women's\",\n",
       "       \"Jamaica Women's\", \"South Africa Women's\", \"Panama Women's\",\n",
       "       \"Vietnam Women's\", \"Haiti Women's\", \"Republic of Ireland Women's\",\n",
       "       \"Norway Women's\", \"Germany Women's\", \"Italy Women's\",\n",
       "       \"Denmark Women's\", \"Zambia Women's\"], dtype=object)"
      ]
     },
     "execution_count": 3,
     "metadata": {},
     "output_type": "execute_result"
    }
   ],
   "source": [
    "# Instanciando um objeto parser para importar dados abertos da StatsBomb\n",
    "parser = Sbopen()\n",
    "\n",
    "# Extraindo os dados de competições disponíveis no StatsBomb em um DataFrame\n",
    "df_competition = parser.competition()\n",
    "\n",
    "# Verificando quais dessas competições são de futebol feminino\n",
    "df_female_competitions = df_competition.loc[df_competition['competition_gender'] == \"female\"]\n",
    "\n",
    "## \n",
    "# Extraindo os dados de todas as partidas da competição Women's World Cup - 2023\n",
    "# competition_id = 72 e season_id = 107\n",
    "## \n",
    "df_matches = parser.match(competition_id = 72, season_id = 107)\n",
    "\n",
    "df_matches.to_csv(\"./Streamlit/matches.csv\", index=False)\n",
    "\n",
    "# Percorrendo o DataFrame de partidas\n",
    "# for index, df_current_match in df_matches.iterrows():\n",
    "#     print(df_current_match)\n",
    "    # # Extraindo o nome e id do time da casa\n",
    "    # match_home_team = df_current_match[\"home_team_name\"]\n",
    "    # match_home_team_id = df_current_match[\"home_team_id\"]\n",
    "    \n",
    "    # # Extraindo o nome e id do time de fora\n",
    "    # match_away_team = df_current_match[\"away_team_name\"]\n",
    "    # match_away_team_id = df_current_match[\"away_team_id\"]\n",
    "home_teams = df_matches[\"home_team_name\"].unique()\n",
    "home_teams"
   ]
  },
  {
   "cell_type": "code",
   "execution_count": 4,
   "id": "31a7faa5-54b1-406a-ae84-19b91184bc4b",
   "metadata": {},
   "outputs": [],
   "source": [
    "# Extraindo o data frame contendo os dados da partida específica\n",
    "df_current_match = df_matches.loc[df_matches['match_id'] == 3904629]\n",
    "\n"
   ]
  },
  {
   "cell_type": "code",
   "execution_count": 5,
   "id": "1c22bd5c-c458-4330-972d-cf1c506da4ca",
   "metadata": {},
   "outputs": [],
   "source": [
    "# Extrai os eventos de uma partida fornecendo seu Id para o parser\n",
    "df_events, related, freeze, tatics = parser.event(3904629)"
   ]
  },
  {
   "cell_type": "markdown",
   "id": "2385d82c-335d-46f2-97fc-5d58c986fcf2",
   "metadata": {},
   "source": [
    "### Extraindo os dados dos passes"
   ]
  },
  {
   "cell_type": "code",
   "execution_count": 6,
   "id": "ee66ce19-b880-451a-a7dd-fcefe130148b",
   "metadata": {},
   "outputs": [
    {
     "ename": "NameError",
     "evalue": "name 'match_home_team' is not defined",
     "output_type": "error",
     "traceback": [
      "\u001b[1;31m---------------------------------------------------------------------------\u001b[0m",
      "\u001b[1;31mNameError\u001b[0m                                 Traceback (most recent call last)",
      "Cell \u001b[1;32mIn[6], line 3\u001b[0m\n\u001b[0;32m      1\u001b[0m \u001b[38;5;66;03m# Procurando por eventos de substituição no jogo - (Time da Casa)\u001b[39;00m\n\u001b[0;32m      2\u001b[0m substitutions \u001b[38;5;241m=\u001b[39m df_events\u001b[38;5;241m.\u001b[39mloc[df_events[\u001b[38;5;124m\"\u001b[39m\u001b[38;5;124mtype_name\u001b[39m\u001b[38;5;124m\"\u001b[39m] \u001b[38;5;241m==\u001b[39m \u001b[38;5;124m\"\u001b[39m\u001b[38;5;124mSubstitution\u001b[39m\u001b[38;5;124m\"\u001b[39m]\n\u001b[1;32m----> 3\u001b[0m home_team_subs \u001b[38;5;241m=\u001b[39m substitutions\u001b[38;5;241m.\u001b[39mloc[substitutions[\u001b[38;5;124m\"\u001b[39m\u001b[38;5;124mteam_name\u001b[39m\u001b[38;5;124m\"\u001b[39m] \u001b[38;5;241m==\u001b[39m \u001b[43mmatch_home_team\u001b[49m]\n\u001b[0;32m      5\u001b[0m \u001b[38;5;66;03m# Extrai o índice do primeiro evento de substituição - (Time da Casa)\u001b[39;00m\n\u001b[0;32m      6\u001b[0m ht_first_sub_index \u001b[38;5;241m=\u001b[39m home_team_subs\u001b[38;5;241m.\u001b[39miloc[\u001b[38;5;241m0\u001b[39m][\u001b[38;5;124m\"\u001b[39m\u001b[38;5;124mindex\u001b[39m\u001b[38;5;124m\"\u001b[39m]\n",
      "\u001b[1;31mNameError\u001b[0m: name 'match_home_team' is not defined"
     ]
    }
   ],
   "source": [
    "# Procurando por eventos de substituição no jogo - (Time da Casa)\n",
    "substitutions = df_events.loc[df_events[\"type_name\"] == \"Substitution\"]\n",
    "home_team_subs = substitutions.loc[substitutions[\"team_name\"] == match_home_team]\n",
    "\n",
    "# Extrai o índice do primeiro evento de substituição - (Time da Casa)\n",
    "ht_first_sub_index = home_team_subs.iloc[0][\"index\"]\n",
    "\n",
    "# Extraindo todos os eventos de passe da partida\n",
    "match_passes = df_events.loc[df_events[\"type_name\"] == \"Pass\"]\n",
    "# Extraindo os eventos de passe - (Time da Casa)\n",
    "home_team_passes = match_passes.loc[match_passes[\"team_name\"] == match_home_team]\n",
    "\n",
    "# Removendo eventos de Lateral\n",
    "home_team_passes = home_team_passes.loc[match_passes.sub_type_name != \"Throw-in\"]\n",
    "\n",
    "# Os passes bem sucedidos são aqueles nos quais o outcome_name é nulo\n",
    "# Extraindo os passes bem sucedidos - (Time da Casa)\n",
    "ht_succesful_passes = home_team_passes.loc[home_team_passes[\"outcome_name\"].isnull()]\n",
    "\n",
    "## \n",
    "# Os passes que aconteceram antes da primeira substituição têm id menor que o do evento de substituição. \n",
    "# Os ids dos eventos são sequenciais\n",
    "## \n",
    "ht_first_sub_passes = ht_succesful_passes.loc[ht_succesful_passes[\"index\"] < ht_first_sub_index]\n",
    "\n",
    "## Extraindo os dados necessários para a rede de passes\n",
    "# x: coordenada x de início do passe\n",
    "# y: coordenada y de início do passe\n",
    "# end_x: coordenada x de fim do passe\n",
    "# end_y: coordenada y de fim do passe\n",
    "# player_name: jogador que inicia o passe\n",
    "# pass_recipient_name: jogador que recebe o passe\n",
    "##\n",
    "ht_first_sub_passes = ht_first_sub_passes[['x', 'y', 'end_x', 'end_y', \"player_name\", \"pass_recipient_name\"]]\n",
    "\n",
    "# Formatando o nome das jogadoras para que apenas o sobrenome delas seja exibido\n",
    "ht_first_sub_passes[\"player_name\"] = ht_first_sub_passes[\"player_name\"].apply(lambda x: str(x).split()[-1])\n",
    "ht_first_sub_passes[\"pass_recipient_name\"] = ht_first_sub_passes[\"pass_recipient_name\"].apply(lambda x: str(x).split()[-1])\n",
    "\n",
    "# Obs.: no exemplo do soccermatics um filtro é utilizado para simplificar o código, porém a extração dos dados foi feita passo\n",
    "# a passo para melhor entendimento dos dados e como manipulá-los"
   ]
  },
  {
   "cell_type": "markdown",
   "id": "eb2f31fb-cb4a-43fa-9ccc-8b8329f9b447",
   "metadata": {},
   "source": [
    "### Calculando o tamanho e localização dos nós"
   ]
  },
  {
   "cell_type": "code",
   "execution_count": null,
   "id": "32c4587f-d0b0-482d-877c-e4d0a34eb41c",
   "metadata": {},
   "outputs": [],
   "source": [
    "# Criando um DataFrame vazio para armazenar as informações\n",
    "df_scatter = pd.DataFrame()\n",
    "\n",
    "# Percorre os eventos de cada jogador por nome\n",
    "for i, name in enumerate(ht_first_sub_passes[\"player_name\"].unique()):\n",
    "    # Extrai as coordenadas x,y (início) do passe - Todos os passes que foram feitos pelo jogador, em que ele foi o passador\n",
    "    # Os dados dos passes são convertidos para um array numpy\n",
    "    passer_x = ht_first_sub_passes.loc[ht_first_sub_passes[\"player_name\"] == name][\"x\"].to_numpy()\n",
    "    passer_y = ht_first_sub_passes.loc[ht_first_sub_passes[\"player_name\"] == name][\"y\"].to_numpy()\n",
    "\n",
    "    # Extrai as coordenas end_x, end_y (fim) do passe - Todos os passes que foram recebidos pelo jogador, em que ele foi o receptor\n",
    "    # Os dados dos passes são convertidos para um array numpy\n",
    "    receiver_x = ht_first_sub_passes.loc[ht_first_sub_passes[\"pass_recipient_name\"] == name][\"end_x\"].to_numpy()\n",
    "    receiver_y = ht_first_sub_passes.loc[ht_first_sub_passes[\"pass_recipient_name\"] == name][\"end_y\"].to_numpy()\n",
    "\n",
    "    # Preenche no DataFrame o nome do jogador sendo analisado no momento\n",
    "    df_scatter.at[i, \"player_name\"] = name\n",
    "\n",
    "    # Calcula a média das coordenadas do jogador para determinar sua posição \"média\" no campo\n",
    "    # Média da coordenada x do jogador no campo durante a partida, tanto como passador quanto receptor\n",
    "    df_scatter.at[i, \"x\"] = np.mean(np.concatenate([passer_x, receiver_x]))\n",
    "    # Média da coordenada y do jogador no campo durante a partida, tanto como passador quanto receptor\n",
    "    df_scatter.at[i, \"y\"] = np.mean(np.concatenate([passer_y, receiver_y]))\n",
    "    \n",
    "    # Preenche no DataFrame a quantidade de passes do jogador sendo analisado no momento\n",
    "    df_scatter.at[i, \"no_passes\"] = ht_first_sub_passes.loc[ht_first_sub_passes[\"player_name\"] == name].count().iloc[0]\n",
    "\n",
    "# Define o tamanho do marcador do vértice de acordo com a quantidade de passes feitos pelo jogador\n",
    "df_scatter[\"marker_size\"] = (df_scatter[\"no_passes\"] / df_scatter[\"no_passes\"].max() * 1500)"
   ]
  },
  {
   "cell_type": "code",
   "execution_count": null,
   "id": "26c63138-b7a8-49b3-be00-c9efdc761b63",
   "metadata": {},
   "outputs": [],
   "source": [
    "df_scatter"
   ]
  },
  {
   "cell_type": "markdown",
   "id": "1566370b-014a-4d87-9829-dec5fa7506b4",
   "metadata": {},
   "source": [
    "### Calculando a espessura das arestas"
   ]
  },
  {
   "cell_type": "code",
   "execution_count": null,
   "id": "27c3600e-c723-45bc-858d-54e39c311f42",
   "metadata": {},
   "outputs": [],
   "source": [
    "# Calculando a quantidade de passes entre jogadores\n",
    "df_lines = ht_first_sub_passes.groupby([\"player_name\", \"pass_recipient_name\"]).x.count().reset_index()\n",
    "df_lines"
   ]
  },
  {
   "cell_type": "code",
   "execution_count": null,
   "id": "d74674f9-68a4-4f98-ac6f-4e03352f68ad",
   "metadata": {},
   "outputs": [],
   "source": [
    "# Renomeando a coluna para contagem de passes\n",
    "df_lines.rename({\"x\": \"pass_count\"}, axis=\"columns\", inplace=True)\n",
    "\n",
    "# Definindo um limiar para quantidade de passes entre jogadores\n",
    "# Nesse caso o limiar está definido a 0, de modo que todos os passes entre jogadores serão considerados\n",
    "# É possível avaliar diferentes limiares para quantidade de passes\n",
    "df_lines = df_lines[df_lines[\"pass_count\"]>0]"
   ]
  },
  {
   "cell_type": "code",
   "execution_count": null,
   "id": "8cade72b-ed48-4765-9e25-507bf05567f3",
   "metadata": {},
   "outputs": [],
   "source": [
    "df_lines"
   ]
  },
  {
   "cell_type": "markdown",
   "id": "e205be40-30a1-4e33-99f5-76897789b3bd",
   "metadata": {},
   "source": [
    "### Plotando os nós"
   ]
  },
  {
   "cell_type": "code",
   "execution_count": null,
   "id": "3a72cdb7-3f53-4c34-a102-bbe0acb3f186",
   "metadata": {},
   "outputs": [],
   "source": [
    "# Instanciando um campo - Verde com linhas brancas\n",
    "pitch = Pitch(pitch_color='grass', line_color='white', stripe=True)\n",
    "# Especificações da figura para plotagem\n",
    "fig, ax = pitch.grid(grid_height=0.9, title_height=0.06, axis=False, endnote_height=0.04, title_space=0, endnote_space=0)\n",
    "\n",
    "# Dados de espalhamento dos jogadores no campo\n",
    "pitch.scatter(\n",
    "    df_scatter.x, \n",
    "    df_scatter.y, \n",
    "    s=df_scatter.marker_size,\n",
    "    color=\"red\",\n",
    "    edgecolors=\"grey\",\n",
    "    linewidth=1, \n",
    "    alpha=1, \n",
    "    ax=ax[\"pitch\"], \n",
    "    zorder = 3\n",
    ")\n",
    "\n",
    "# Anota os nomes dos jogadores nos nós, assim como suas coordenadas no campo\n",
    "for i, row in df_scatter.iterrows():\n",
    "    pitch.annotate(\n",
    "        row.player_name, \n",
    "        xy=(row.x, row.y), \n",
    "        c='black', \n",
    "        va='center', \n",
    "        ha='center', \n",
    "        weight = \"bold\", \n",
    "        size=16, \n",
    "        ax=ax[\"pitch\"], \n",
    "        zorder = 4\n",
    "    )\n",
    "\n",
    "# Percorre a rede de passes para cada par de jogadores\n",
    "for i, row in df_lines.iterrows():\n",
    "        # Extrai os jogadores\n",
    "        player1 = row[\"player_name\"]\n",
    "        player2 = row[\"pass_recipient_name\"]\n",
    "    \n",
    "        # Exrai as coordenadas x, y do primeiro jogador\n",
    "        player1_x = df_scatter.loc[df_scatter[\"player_name\"] == player1]['x'].iloc[0]\n",
    "        player1_y = df_scatter.loc[df_scatter[\"player_name\"] == player1]['y'].iloc[0]\n",
    "        \n",
    "        # Exrai as coordenadas x, y do segundo jogador\n",
    "        player2_x = df_scatter.loc[df_scatter[\"player_name\"] == player2]['x'].iloc[0]\n",
    "        player2_y = df_scatter.loc[df_scatter[\"player_name\"] == player2]['y'].iloc[0]\n",
    "\n",
    "        # Extrai a quantidade de passes trocados pelos jogadores\n",
    "        num_passes = row[\"pass_count\"]\n",
    "    \n",
    "        # Ajusta a espessura da linha do link, quanto mais passes feitos maior será a espessura da linha\n",
    "        line_width = (num_passes / df_lines['pass_count'].max() * 10)\n",
    "    \n",
    "        # Configuração do plot dos links\n",
    "        pitch.lines(\n",
    "            player1_x, \n",
    "            player1_y, \n",
    "            player2_x, \n",
    "            player2_y,\n",
    "            alpha=1, \n",
    "            lw=line_width, \n",
    "            zorder=2, \n",
    "            color=\"red\", \n",
    "            ax = ax[\"pitch\"]\n",
    "        )\n",
    "\n",
    "# Título da partida com time da casa vs. time de fora\n",
    "subtitle = \"Rede de passes de: \" + match_home_team + \" contra \" + match_away_team\n",
    "\n",
    "# Determinando o título da partida\n",
    "fig.suptitle(subtitle)\n",
    "\n",
    "# Mostrando o campo com os jogadores plotados\n",
    "plt.show()"
   ]
  },
  {
   "cell_type": "markdown",
   "id": "1133dfc4-c8ef-4929-be7c-e93412d61afc",
   "metadata": {},
   "source": [
    "### Centralização\n",
    "\n",
    "-> Colocar a fórmula da centralização. Adicionar explicação sobre como funciona a centralização\n",
    "\n",
    "Para calcular a centralização é preciso calcular o número de passes feitos por cada jogador."
   ]
  },
  {
   "cell_type": "code",
   "execution_count": 7,
   "id": "76ac5abb-0be2-4264-971d-89ef3e03cd63",
   "metadata": {},
   "outputs": [
    {
     "ename": "NameError",
     "evalue": "name 'ht_first_sub_passes' is not defined",
     "output_type": "error",
     "traceback": [
      "\u001b[1;31m---------------------------------------------------------------------------\u001b[0m",
      "\u001b[1;31mNameError\u001b[0m                                 Traceback (most recent call last)",
      "Cell \u001b[1;32mIn[7], line 2\u001b[0m\n\u001b[0;32m      1\u001b[0m \u001b[38;5;66;03m# Calculando o número de passes para cada jogador\u001b[39;00m\n\u001b[1;32m----> 2\u001b[0m number_of_passes \u001b[38;5;241m=\u001b[39m \u001b[43mht_first_sub_passes\u001b[49m\u001b[38;5;241m.\u001b[39mgroupby([\u001b[38;5;124m\"\u001b[39m\u001b[38;5;124mplayer_name\u001b[39m\u001b[38;5;124m\"\u001b[39m])\u001b[38;5;241m.\u001b[39mx\u001b[38;5;241m.\u001b[39mcount()\u001b[38;5;241m.\u001b[39mreset_index()\n\u001b[0;32m      3\u001b[0m number_of_passes\u001b[38;5;241m.\u001b[39mrename({\u001b[38;5;124m'\u001b[39m\u001b[38;5;124mx\u001b[39m\u001b[38;5;124m'\u001b[39m: \u001b[38;5;124m'\u001b[39m\u001b[38;5;124mpass_count\u001b[39m\u001b[38;5;124m'\u001b[39m}, axis\u001b[38;5;241m=\u001b[39m\u001b[38;5;124m'\u001b[39m\u001b[38;5;124mcolumns\u001b[39m\u001b[38;5;124m'\u001b[39m, inplace\u001b[38;5;241m=\u001b[39m\u001b[38;5;28;01mTrue\u001b[39;00m)\n\u001b[0;32m      5\u001b[0m \u001b[38;5;66;03m# Encontrando o jogador com maior número de passes\u001b[39;00m\n",
      "\u001b[1;31mNameError\u001b[0m: name 'ht_first_sub_passes' is not defined"
     ]
    }
   ],
   "source": [
    "# Calculando o número de passes para cada jogador\n",
    "number_of_passes = ht_first_sub_passes.groupby([\"player_name\"]).x.count().reset_index()\n",
    "number_of_passes.rename({'x': 'pass_count'}, axis='columns', inplace=True)\n",
    "\n",
    "# Encontrando o jogador com maior número de passes\n",
    "max_number_of_passes = number_of_passes[\"pass_count\"].max()\n",
    "\n",
    "# Realizando o cálculo da equação de centralização\n",
    "# Calculando o denominador\n",
    "denominator = 10*number_of_passes[\"pass_count\"].sum()\n",
    "# Calculando o numerador\n",
    "nominator = (max_number_of_passes - number_of_passes[\"pass_count\"]).sum()\n",
    "\n",
    "# Calculando o índice de centralização\n",
    "centralisation_index = nominator/denominator\n",
    "\n",
    "print(\"O ídice de centralização do time \" + match_home_team + \" foi de: %.2f'\" %centralisation_index)"
   ]
  },
  {
   "cell_type": "markdown",
   "id": "c6f6e609-db26-46cd-ad7e-4e28b9653fbf",
   "metadata": {},
   "source": [
    "Uma possibilidade de análise é utilizar apenas os passes para frente - ou seja - aqueles que fazem o jogo \"avançar\".\n",
    "Alguns passes são apenas trocas entre jogadoras de um mesmo time para manter a posse."
   ]
  },
  {
   "cell_type": "markdown",
   "id": "0ee939a7-ba92-4a07-9e19-9f82df5ad321",
   "metadata": {},
   "source": [
    "### Calculando métricas de centralidade dos jogadores\n",
    "Para o cálculo das medidas não é levado em consideração a posição média dos jogadores, apenas a troca de passes entre é interessante."
   ]
  },
  {
   "cell_type": "code",
   "execution_count": 8,
   "id": "43df09f8-a4f4-458b-8e8b-e005018d3552",
   "metadata": {},
   "outputs": [
    {
     "ename": "NameError",
     "evalue": "name 'df_lines' is not defined",
     "output_type": "error",
     "traceback": [
      "\u001b[1;31m---------------------------------------------------------------------------\u001b[0m",
      "\u001b[1;31mNameError\u001b[0m                                 Traceback (most recent call last)",
      "Cell \u001b[1;32mIn[8], line 2\u001b[0m\n\u001b[0;32m      1\u001b[0m \u001b[38;5;66;03m# O DataFrame de passes entre jogadores é convertido para o formato tupla para ser utilizado como grafo do networkx\u001b[39;00m\n\u001b[1;32m----> 2\u001b[0m pass_graph \u001b[38;5;241m=\u001b[39m \u001b[43mdf_lines\u001b[49m\u001b[38;5;241m.\u001b[39mapply(\u001b[38;5;28mtuple\u001b[39m, axis\u001b[38;5;241m=\u001b[39m\u001b[38;5;241m1\u001b[39m)\u001b[38;5;241m.\u001b[39mtolist()\n\u001b[0;32m      4\u001b[0m \u001b[38;5;66;03m# Criando um grafo isomorfo ao grafo de passes\u001b[39;00m\n\u001b[0;32m      5\u001b[0m AUS_Graph \u001b[38;5;241m=\u001b[39m nx\u001b[38;5;241m.\u001b[39mDiGraph()\n",
      "\u001b[1;31mNameError\u001b[0m: name 'df_lines' is not defined"
     ]
    }
   ],
   "source": [
    "# O DataFrame de passes entre jogadores é convertido para o formato tupla para ser utilizado como grafo do networkx\n",
    "pass_graph = df_lines.apply(tuple, axis=1).tolist()\n",
    "\n",
    "# Criando um grafo isomorfo ao grafo de passes\n",
    "AUS_Graph = nx.DiGraph()\n",
    "\n",
    "# Percorrendo a lista de tuplas do grafo de passes\n",
    "for i in range(len(pass_graph)):\n",
    "    # Criando as arestas entre os nós (passes entre jogadores)\n",
    "    # pass_graph[i][0]: representa o jogador que originou o passe\n",
    "    # pass_graph[i][1]: representa o jogador que recebeu o passe\n",
    "    # pass_graph[i][2]: representa a quantidade de passes entre a dupla de jogadores\n",
    "    AUS_Graph.add_edge(pass_graph[i][0], pass_graph[i][1], weight=pass_graph[i][2])\n",
    "\n",
    "# Extraindo as arestas do grafo criado\n",
    "AUS_edges = AUS_Graph.edges()\n",
    "# Extraindo os pesos para determinar a espessura das arestas\n",
    "AUS_weights = [AUS_Graph[u][v]['weight'] for u, v in AUS_edges]\n",
    "\n",
    "# Plotando o grafo isomorfo gerado\n",
    "nx.draw(AUS_Graph, node_size=800, with_labels= True, node_color='yellow', width=AUS_weights)\n",
    "# Colocando borda nos nós\n",
    "plt.gca().collections[0].set_edgecolor('black')\n",
    "# Definindo o título do plot\n",
    "plt.title(\"Rede de passes de: \" + match_home_team + \" contra \" + match_away_team, size=30)\n",
    "plt.show()\n"
   ]
  },
  {
   "cell_type": "markdown",
   "id": "1684b862-3220-4014-9740-1a5cc4d985a3",
   "metadata": {},
   "source": [
    "#### Grau dos nós - Total\n",
    "\n",
    "O grau de um nó representa quantos passes a jogadora esteve envolvida. Em um grafo direcionado o grau de um nó consiste na soma dos graus de entrada e saída, ou seja, a soma dos passes que foram originados e os passes que foram recebidos pelo jogador.\n",
    "\n",
    "A partir do grau de entrada é possível calcular qual jogador recebeu mais passes e a partir do grau de saída é possível calcular qual jogador originou mais passes. "
   ]
  },
  {
   "cell_type": "code",
   "execution_count": 9,
   "id": "f96b6edc-2933-4ddc-83a7-5c3d8776ea5c",
   "metadata": {},
   "outputs": [
    {
     "ename": "NameError",
     "evalue": "name 'AUS_Graph' is not defined",
     "output_type": "error",
     "traceback": [
      "\u001b[1;31m---------------------------------------------------------------------------\u001b[0m",
      "\u001b[1;31mNameError\u001b[0m                                 Traceback (most recent call last)",
      "Cell \u001b[1;32mIn[9], line 2\u001b[0m\n\u001b[0;32m      1\u001b[0m \u001b[38;5;66;03m# Preparando um dicionário com o nome das jogadoras\u001b[39;00m\n\u001b[1;32m----> 2\u001b[0m degrees_AUS \u001b[38;5;241m=\u001b[39m \u001b[38;5;28mdict\u001b[39m(nx\u001b[38;5;241m.\u001b[39mdegree(\u001b[43mAUS_Graph\u001b[49m))\n\u001b[0;32m      4\u001b[0m \u001b[38;5;66;03m# Criando um DataFrame a partir do dicionário de graus das jogadoras\u001b[39;00m\n\u001b[0;32m      5\u001b[0m df_degrees_AUS \u001b[38;5;241m=\u001b[39m pd\u001b[38;5;241m.\u001b[39mDataFrame\u001b[38;5;241m.\u001b[39mfrom_dict(\u001b[38;5;28mlist\u001b[39m(degrees_AUS\u001b[38;5;241m.\u001b[39mitems()))\n",
      "\u001b[1;31mNameError\u001b[0m: name 'AUS_Graph' is not defined"
     ]
    }
   ],
   "source": [
    "# Preparando um dicionário com o nome das jogadoras\n",
    "degrees_AUS = dict(nx.degree(AUS_Graph))\n",
    "\n",
    "# Criando um DataFrame a partir do dicionário de graus das jogadoras\n",
    "df_degrees_AUS = pd.DataFrame.from_dict(list(degrees_AUS.items()))\n",
    "\n",
    "# Renomeando as colunas para melhor entendimento\n",
    "df_degrees_AUS.rename(columns = {\n",
    "    0: \"Nome da Jogadora\",\n",
    "    1: \"Grau do Nó\"\n",
    "    },\n",
    "    inplace=True\n",
    ")     \n",
    "\n",
    "# Plotando o grau de passes para cada jogadora\n",
    "# Extraindo os atributos para plot\n",
    "X = list(degrees_AUS.keys())\n",
    "Y = list(degrees_AUS.values())\n",
    "\n",
    "sns.barplot(x=Y, y=X, palette=\"magma\", legend=False)\n",
    "\n",
    "plt.xticks(range(0, max(Y)+5, 2))\n",
    "plt.xlabel(\"Grau\")\n",
    "plt.ylabel(\"Jogadora\")\n",
    "plt.title(\"Rede de passes de: \" + match_home_team + \" contra \" + match_away_team)\n",
    "\n",
    "plt.show()"
   ]
  },
  {
   "cell_type": "markdown",
   "id": "6a4000d8-e6cc-4d29-8709-b2ce6bd35960",
   "metadata": {},
   "source": [
    "#### Grau dos nós - Entrada"
   ]
  },
  {
   "cell_type": "code",
   "execution_count": 10,
   "id": "21cd6844-7470-4f83-94b4-b868c74e0d21",
   "metadata": {},
   "outputs": [
    {
     "ename": "NameError",
     "evalue": "name 'AUS_Graph' is not defined",
     "output_type": "error",
     "traceback": [
      "\u001b[1;31m---------------------------------------------------------------------------\u001b[0m",
      "\u001b[1;31mNameError\u001b[0m                                 Traceback (most recent call last)",
      "Cell \u001b[1;32mIn[10], line 2\u001b[0m\n\u001b[0;32m      1\u001b[0m \u001b[38;5;66;03m# Preparando um dicionário com o nome das jogadoras\u001b[39;00m\n\u001b[1;32m----> 2\u001b[0m degrees_AUS \u001b[38;5;241m=\u001b[39m \u001b[38;5;28mdict\u001b[39m(\u001b[43mAUS_Graph\u001b[49m\u001b[38;5;241m.\u001b[39min_degree())\n\u001b[0;32m      4\u001b[0m \u001b[38;5;66;03m# Criando um DataFrame a partir do dicionário de graus das jogadoras\u001b[39;00m\n\u001b[0;32m      5\u001b[0m df_degrees_AUS \u001b[38;5;241m=\u001b[39m pd\u001b[38;5;241m.\u001b[39mDataFrame\u001b[38;5;241m.\u001b[39mfrom_dict(\u001b[38;5;28mlist\u001b[39m(degrees_AUS\u001b[38;5;241m.\u001b[39mitems()))\n",
      "\u001b[1;31mNameError\u001b[0m: name 'AUS_Graph' is not defined"
     ]
    }
   ],
   "source": [
    "# Preparando um dicionário com o nome das jogadoras\n",
    "degrees_AUS = dict(AUS_Graph.in_degree())\n",
    "\n",
    "# Criando um DataFrame a partir do dicionário de graus das jogadoras\n",
    "df_degrees_AUS = pd.DataFrame.from_dict(list(degrees_AUS.items()))\n",
    "\n",
    "# Renomeando as colunas para melhor entendimento\n",
    "df_degrees_AUS.rename(columns = {\n",
    "    0: \"Nome da Jogadora\",\n",
    "    1: \"Grau do Nó\"\n",
    "    },\n",
    "    inplace=True\n",
    ")     \n",
    "\n",
    "# Plotando o grau de passes para cada jogadora\n",
    "# Extraindo os atributos para plot\n",
    "X = list(degrees_AUS.keys())\n",
    "Y = list(degrees_AUS.values())\n",
    "\n",
    "sns.barplot(x=Y, y=X, palette=\"magma\", legend=False)\n",
    "\n",
    "plt.xticks(range(0, max(Y)+5, 2))\n",
    "plt.xlabel(\"Grau\")\n",
    "plt.ylabel(\"Jogadora\")\n",
    "plt.title(\"Quantidade de passes recebidos por jogadora\")\n",
    "\n",
    "plt.show()"
   ]
  },
  {
   "cell_type": "code",
   "execution_count": 11,
   "id": "5cd590c5-84bb-43f2-81fc-150f8cd1e4b1",
   "metadata": {},
   "outputs": [
    {
     "ename": "NameError",
     "evalue": "name 'AUS_Graph' is not defined",
     "output_type": "error",
     "traceback": [
      "\u001b[1;31m---------------------------------------------------------------------------\u001b[0m",
      "\u001b[1;31mNameError\u001b[0m                                 Traceback (most recent call last)",
      "Cell \u001b[1;32mIn[11], line 2\u001b[0m\n\u001b[0;32m      1\u001b[0m \u001b[38;5;66;03m# Preparando um dicionário com o nome das jogadoras\u001b[39;00m\n\u001b[1;32m----> 2\u001b[0m degrees_AUS \u001b[38;5;241m=\u001b[39m \u001b[38;5;28mdict\u001b[39m(\u001b[43mAUS_Graph\u001b[49m\u001b[38;5;241m.\u001b[39mout_degree())\n\u001b[0;32m      4\u001b[0m \u001b[38;5;66;03m# Criando um DataFrame a partir do dicionário de graus das jogadoras\u001b[39;00m\n\u001b[0;32m      5\u001b[0m df_degrees_AUS \u001b[38;5;241m=\u001b[39m pd\u001b[38;5;241m.\u001b[39mDataFrame\u001b[38;5;241m.\u001b[39mfrom_dict(\u001b[38;5;28mlist\u001b[39m(degrees_AUS\u001b[38;5;241m.\u001b[39mitems()))\n",
      "\u001b[1;31mNameError\u001b[0m: name 'AUS_Graph' is not defined"
     ]
    }
   ],
   "source": [
    "# Preparando um dicionário com o nome das jogadoras\n",
    "degrees_AUS = dict(AUS_Graph.out_degree())\n",
    "\n",
    "# Criando um DataFrame a partir do dicionário de graus das jogadoras\n",
    "df_degrees_AUS = pd.DataFrame.from_dict(list(degrees_AUS.items()))\n",
    "\n",
    "# Renomeando as colunas para melhor entendimento\n",
    "df_degrees_AUS.rename(columns = {\n",
    "    0: \"Nome da Jogadora\",\n",
    "    1: \"Grau do Nó\"\n",
    "    },\n",
    "    inplace=True\n",
    ")     \n",
    "\n",
    "# Plotando o grau de passes para cada jogadora\n",
    "# Extraindo os atributos para plot\n",
    "X = list(degrees_AUS.keys())\n",
    "Y = list(degrees_AUS.values())\n",
    "\n",
    "sns.barplot(x=Y, y=X, palette=\"magma\", legend=False)\n",
    "\n",
    "plt.xticks(range(0, max(Y)+5, 2))\n",
    "plt.xlabel(\"Grau\")\n",
    "plt.ylabel(\"Jogadora\")\n",
    "plt.title(\"Quantidade de passes originados por jogadora\")\n",
    "\n",
    "plt.show()"
   ]
  },
  {
   "cell_type": "markdown",
   "id": "0391bc5f-d5e4-4441-a68b-cbac2c8e28fe",
   "metadata": {},
   "source": [
    "#### Excentricidade\n",
    "\n",
    "Eccentricity of node i: highest distance from i to any other node.\n",
    "\n",
    "Nesse caso, demonstra o quanto o jogador mais longe do jogador atual está na rede"
   ]
  },
  {
   "cell_type": "code",
   "execution_count": 12,
   "id": "6799b5fd-7c10-4a9c-a741-c3ea98523611",
   "metadata": {},
   "outputs": [
    {
     "ename": "NameError",
     "evalue": "name 'AUS_Graph' is not defined",
     "output_type": "error",
     "traceback": [
      "\u001b[1;31m---------------------------------------------------------------------------\u001b[0m",
      "\u001b[1;31mNameError\u001b[0m                                 Traceback (most recent call last)",
      "Cell \u001b[1;32mIn[12], line 2\u001b[0m\n\u001b[0;32m      1\u001b[0m \u001b[38;5;66;03m# Calculando a excentricidade das jogadoras\u001b[39;00m\n\u001b[1;32m----> 2\u001b[0m excentricity_AUS \u001b[38;5;241m=\u001b[39m nx\u001b[38;5;241m.\u001b[39meccentricity(\u001b[43mAUS_Graph\u001b[49m, v\u001b[38;5;241m=\u001b[39m\u001b[38;5;28;01mNone\u001b[39;00m, weight\u001b[38;5;241m=\u001b[39m\u001b[38;5;124m'\u001b[39m\u001b[38;5;124mweight\u001b[39m\u001b[38;5;124m'\u001b[39m)\n\u001b[0;32m      3\u001b[0m excentricity_AUS\n",
      "\u001b[1;31mNameError\u001b[0m: name 'AUS_Graph' is not defined"
     ]
    }
   ],
   "source": [
    "# Calculando a excentricidade das jogadoras\n",
    "excentricity_AUS = nx.eccentricity(AUS_Graph, v=None, weight='weight')\n",
    "excentricity_AUS"
   ]
  },
  {
   "cell_type": "code",
   "execution_count": 13,
   "id": "550bfcf0-cbf6-4314-a761-5cbbb55b8c83",
   "metadata": {},
   "outputs": [
    {
     "ename": "NameError",
     "evalue": "name 'excentricity_AUS' is not defined",
     "output_type": "error",
     "traceback": [
      "\u001b[1;31m---------------------------------------------------------------------------\u001b[0m",
      "\u001b[1;31mNameError\u001b[0m                                 Traceback (most recent call last)",
      "Cell \u001b[1;32mIn[13], line 1\u001b[0m\n\u001b[1;32m----> 1\u001b[0m avg_excentricity_AUS \u001b[38;5;241m=\u001b[39m \u001b[38;5;28msum\u001b[39m(\u001b[38;5;28mlist\u001b[39m(\u001b[43mexcentricity_AUS\u001b[49m\u001b[38;5;241m.\u001b[39mvalues()))\u001b[38;5;241m/\u001b[39m\u001b[38;5;28mlen\u001b[39m(excentricity_AUS)\n\u001b[0;32m      2\u001b[0m \u001b[38;5;28mprint\u001b[39m(\u001b[38;5;124m\"\u001b[39m\u001b[38;5;124mExcentricidade média do time: \u001b[39m\u001b[38;5;124m\"\u001b[39m \u001b[38;5;241m+\u001b[39m \u001b[38;5;28mstr\u001b[39m(avg_excentricity_AUS))\n",
      "\u001b[1;31mNameError\u001b[0m: name 'excentricity_AUS' is not defined"
     ]
    }
   ],
   "source": [
    "avg_excentricity_AUS = sum(list(excentricity_AUS.values()))/len(excentricity_AUS)\n",
    "print(\"Excentricidade média do time: \" + str(avg_excentricity_AUS))"
   ]
  },
  {
   "cell_type": "markdown",
   "id": "eb8dccec-85b0-4859-b6b7-e22914d15aae",
   "metadata": {},
   "source": [
    "#### Clustering do Nó e Grafo\n",
    "\n",
    "O clustering médio varia de [0, 1], sendo 0 equivalente à sitaução em que nenhum dos nós da rede está conectado com os demais e 1 equivalente à situação em que o grafo é um clique, ou seja, todos os nós estão conectados entre si. Um coeficiente de clustering maior denota uma maior interação, troca de passes, entre os jogadores do time."
   ]
  },
  {
   "cell_type": "code",
   "execution_count": 14,
   "id": "33893565-96b6-4f47-8e92-91d0fb78bbaf",
   "metadata": {},
   "outputs": [
    {
     "ename": "NameError",
     "evalue": "name 'AUS_Graph' is not defined",
     "output_type": "error",
     "traceback": [
      "\u001b[1;31m---------------------------------------------------------------------------\u001b[0m",
      "\u001b[1;31mNameError\u001b[0m                                 Traceback (most recent call last)",
      "Cell \u001b[1;32mIn[14], line 1\u001b[0m\n\u001b[1;32m----> 1\u001b[0m clustering_AUS \u001b[38;5;241m=\u001b[39m nx\u001b[38;5;241m.\u001b[39mclustering(\u001b[43mAUS_Graph\u001b[49m, weight\u001b[38;5;241m=\u001b[39m\u001b[38;5;124m'\u001b[39m\u001b[38;5;124mweight\u001b[39m\u001b[38;5;124m'\u001b[39m)\n\u001b[0;32m      2\u001b[0m clustering_AUS\n",
      "\u001b[1;31mNameError\u001b[0m: name 'AUS_Graph' is not defined"
     ]
    }
   ],
   "source": [
    "clustering_AUS = nx.clustering(AUS_Graph, weight='weight')\n",
    "clustering_AUS"
   ]
  },
  {
   "cell_type": "code",
   "execution_count": 15,
   "id": "3787e8d7-852b-40fc-b8b7-66bb65657ffb",
   "metadata": {},
   "outputs": [
    {
     "ename": "NameError",
     "evalue": "name 'AUS_Graph' is not defined",
     "output_type": "error",
     "traceback": [
      "\u001b[1;31m---------------------------------------------------------------------------\u001b[0m",
      "\u001b[1;31mNameError\u001b[0m                                 Traceback (most recent call last)",
      "Cell \u001b[1;32mIn[15], line 1\u001b[0m\n\u001b[1;32m----> 1\u001b[0m avg_clustering_AUS \u001b[38;5;241m=\u001b[39m nx\u001b[38;5;241m.\u001b[39maverage_clustering(\u001b[43mAUS_Graph\u001b[49m, weight\u001b[38;5;241m=\u001b[39m\u001b[38;5;124m'\u001b[39m\u001b[38;5;124mweight\u001b[39m\u001b[38;5;124m'\u001b[39m)\n\u001b[0;32m      2\u001b[0m avg_clustering_AUS\n",
      "\u001b[1;31mNameError\u001b[0m: name 'AUS_Graph' is not defined"
     ]
    }
   ],
   "source": [
    "avg_clustering_AUS = nx.average_clustering(AUS_Graph, weight='weight')\n",
    "avg_clustering_AUS"
   ]
  },
  {
   "cell_type": "markdown",
   "id": "2c9e7514-3a4a-4477-bcb6-086f2b431a74",
   "metadata": {},
   "source": [
    "#### Betweenness\n",
    "\n",
    "\"Denota qual jogador foi o mais importante\""
   ]
  },
  {
   "cell_type": "code",
   "execution_count": 16,
   "id": "a268b99d-5e14-4685-a531-957a36f2bffe",
   "metadata": {},
   "outputs": [
    {
     "ename": "NameError",
     "evalue": "name 'AUS_Graph' is not defined",
     "output_type": "error",
     "traceback": [
      "\u001b[1;31m---------------------------------------------------------------------------\u001b[0m",
      "\u001b[1;31mNameError\u001b[0m                                 Traceback (most recent call last)",
      "Cell \u001b[1;32mIn[16], line 1\u001b[0m\n\u001b[1;32m----> 1\u001b[0m betweenness_AUS \u001b[38;5;241m=\u001b[39m nx\u001b[38;5;241m.\u001b[39mbetweenness_centrality(\u001b[43mAUS_Graph\u001b[49m, weight\u001b[38;5;241m=\u001b[39m\u001b[38;5;124m'\u001b[39m\u001b[38;5;124mweight\u001b[39m\u001b[38;5;124m'\u001b[39m)\n\u001b[0;32m      2\u001b[0m betweenness_AUS\n",
      "\u001b[1;31mNameError\u001b[0m: name 'AUS_Graph' is not defined"
     ]
    }
   ],
   "source": [
    "betweenness_AUS = nx.betweenness_centrality(AUS_Graph, weight='weight')\n",
    "betweenness_AUS"
   ]
  },
  {
   "cell_type": "markdown",
   "id": "ab293673-7ded-44a2-bee3-3c35124af295",
   "metadata": {},
   "source": [
    "#### Closeness\n",
    "\n",
    "Determina o grau de proximidade da jogadora com a rede, demonstrando sua capacidade de conectar com o restante das jogadoras."
   ]
  },
  {
   "cell_type": "code",
   "execution_count": 17,
   "id": "20957647-8230-42ba-880c-b268f3509601",
   "metadata": {},
   "outputs": [
    {
     "ename": "NameError",
     "evalue": "name 'AUS_Graph' is not defined",
     "output_type": "error",
     "traceback": [
      "\u001b[1;31m---------------------------------------------------------------------------\u001b[0m",
      "\u001b[1;31mNameError\u001b[0m                                 Traceback (most recent call last)",
      "Cell \u001b[1;32mIn[17], line 1\u001b[0m\n\u001b[1;32m----> 1\u001b[0m closeness_AUS \u001b[38;5;241m=\u001b[39m nx\u001b[38;5;241m.\u001b[39mcloseness_centrality(\u001b[43mAUS_Graph\u001b[49m)\n\u001b[0;32m      2\u001b[0m closeness_AUS\n",
      "\u001b[1;31mNameError\u001b[0m: name 'AUS_Graph' is not defined"
     ]
    }
   ],
   "source": [
    "closeness_AUS = nx.closeness_centrality(AUS_Graph)\n",
    "closeness_AUS"
   ]
  },
  {
   "cell_type": "code",
   "execution_count": 18,
   "id": "b162af8d-38ec-4e8a-a766-6db5d09c78ea",
   "metadata": {},
   "outputs": [
    {
     "ename": "NameError",
     "evalue": "name 'ISO_Graph' is not defined",
     "output_type": "error",
     "traceback": [
      "\u001b[1;31m---------------------------------------------------------------------------\u001b[0m",
      "\u001b[1;31mNameError\u001b[0m                                 Traceback (most recent call last)",
      "Cell \u001b[1;32mIn[18], line 1\u001b[0m\n\u001b[1;32m----> 1\u001b[0m excentricity_AUS \u001b[38;5;241m=\u001b[39m nx\u001b[38;5;241m.\u001b[39meccentricity(\u001b[43mISO_Graph\u001b[49m, v\u001b[38;5;241m=\u001b[39m\u001b[38;5;28;01mNone\u001b[39;00m, weight\u001b[38;5;241m=\u001b[39m\u001b[38;5;124m'\u001b[39m\u001b[38;5;124mweight\u001b[39m\u001b[38;5;124m'\u001b[39m)\n\u001b[0;32m      2\u001b[0m avg_excentricity_AUS \u001b[38;5;241m=\u001b[39m \u001b[38;5;28msum\u001b[39m(\u001b[38;5;28mlist\u001b[39m(excentricity_AUS\u001b[38;5;241m.\u001b[39mvalues()))\u001b[38;5;241m/\u001b[39m\u001b[38;5;28mlen\u001b[39m(excentricity_AUS)\n\u001b[0;32m      4\u001b[0m clustering_AUS \u001b[38;5;241m=\u001b[39m nx\u001b[38;5;241m.\u001b[39mclustering(AUS_Graph, weight\u001b[38;5;241m=\u001b[39m\u001b[38;5;124m'\u001b[39m\u001b[38;5;124mweight\u001b[39m\u001b[38;5;124m'\u001b[39m)\n",
      "\u001b[1;31mNameError\u001b[0m: name 'ISO_Graph' is not defined"
     ]
    }
   ],
   "source": [
    "    excentricity_AUS = nx.eccentricity(ISO_Graph, v=None, weight='weight')\n",
    "    avg_excentricity_AUS = sum(list(excentricity_AUS.values()))/len(excentricity_AUS)\n",
    "    \n",
    "    clustering_AUS = nx.clustering(AUS_Graph, weight='weight')\n",
    "    avg_clustering_AUS = nx.average_clustering(AUS_Graph, weight='weight')\n",
    "\n",
    "    betweenness_AUS = nx.betweenness_centrality(AUS_Graph, weight='weight')\n",
    "\n",
    "    closeness_AUS = nx.closeness_centrality(AUS_Graph)"
   ]
  },
  {
   "cell_type": "code",
   "execution_count": null,
   "id": "5f591074-9213-4fb7-bfee-a7e6adf3a79a",
   "metadata": {},
   "outputs": [],
   "source": []
  },
  {
   "cell_type": "code",
   "execution_count": null,
   "id": "2814e6ff-66dd-4e8d-ba66-cc5684b9ac34",
   "metadata": {},
   "outputs": [],
   "source": []
  },
  {
   "cell_type": "code",
   "execution_count": null,
   "id": "d60bc62e-918e-4a91-8a2a-882b5ca05e44",
   "metadata": {},
   "outputs": [],
   "source": []
  }
 ],
 "metadata": {
  "kernelspec": {
   "display_name": ".graph_env",
   "language": "python",
   "name": ".graph_env"
  },
  "language_info": {
   "codemirror_mode": {
    "name": "ipython",
    "version": 3
   },
   "file_extension": ".py",
   "mimetype": "text/x-python",
   "name": "python",
   "nbconvert_exporter": "python",
   "pygments_lexer": "ipython3",
   "version": "3.12.4"
  }
 },
 "nbformat": 4,
 "nbformat_minor": 5
}
