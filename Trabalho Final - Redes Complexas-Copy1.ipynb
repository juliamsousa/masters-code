{
 "cells": [
  {
   "cell_type": "markdown",
   "id": "8b67968e-6707-427d-954f-c22daad8dcf0",
   "metadata": {},
   "source": [
    "# Trabalho Final - Redes Complexas¶\n",
    "\n",
    "Código contendo o trabalho final desenvolvido na disciplina de Redes Complexas\n"
   ]
  },
  {
   "cell_type": "markdown",
   "id": "df28bf88-dc0b-431b-9457-e1090922a767",
   "metadata": {},
   "source": [
    "https://mplsoccer.readthedocs.io/en/latest/index.html\n",
    "\n",
    "https://statsbomb.com/\n",
    "\n",
    "https://fcpython.com/\n",
    "\n",
    "Adicionar um módulo com Streamlit: https://fcpython.com/data-analysis/building-interactive-analysis-tools-with-python-streamlit\n",
    "\n",
    "Agrupando jogadores com K-Means Cluster: https://fcpython.com/machine-learning/introduction-to-k-means-with-python-clustering-shot-creators-in-the-premier-league\n",
    "\n",
    "https://statsbomb.com/what-we-do/hub/free-data/\n",
    "\n",
    "https://mplsoccer.readthedocs.io/en/latest/gallery/pitch_plots/plot_pass_network.html#sphx-glr-gallery-pitch-plots-plot-pass-network-py\n",
    "\n",
    "https://mplsoccer.readthedocs.io/en/latest/gallery/pitch_plots/plot_pass_network.html\n",
    "\n",
    "Sbopen mplsoccer uso: https://mplsoccer.readthedocs.io/en/latest/mplsoccer.statsbomb.html#mplsoccer.statsbomb.Sbopen"
   ]
  },
  {
   "cell_type": "code",
   "execution_count": null,
   "id": "e071314f-d89a-4e8a-9cce-1978cf5898fe",
   "metadata": {},
   "outputs": [],
   "source": [
    "# Instalando o mplsoccer na máquina para utilizar dados do statsbomb e fazer plots no campo de futebol\n",
    "pip install mplsoccer"
   ]
  },
  {
   "cell_type": "markdown",
   "id": "2c617b58-08f2-499e-b41e-321473d7ac9e",
   "metadata": {},
   "source": [
    "A bibliotece mplsoccer fornece recursos para plotar gráficos de futebol em Matplotlib, assim como para importar dados abertos do StatsBomb"
   ]
  },
  {
   "cell_type": "code",
   "execution_count": 4,
   "id": "e732591c-3560-41bf-93b8-72bcf25d1090",
   "metadata": {},
   "outputs": [],
   "source": [
    "# Importando as bibliotecas necessárias\n",
    "import matplotlib.pyplot as plt\n",
    "import numpy as np\n",
    "from mplsoccer import Pitch, Sbopen\n",
    "import pandas as pd"
   ]
  },
  {
   "cell_type": "code",
   "execution_count": 58,
   "id": "6251cf5e-8529-4999-aa8f-31c807d90215",
   "metadata": {},
   "outputs": [],
   "source": [
    "# Instanciando um objeto parser para importar dados abertos da StatsBomb\n",
    "parser = Sbopen()\n",
    "\n",
    "# Extraindo os dados de competições disponíveis no StatsBomb em um DataFrame\n",
    "df_competition = parser.competition()\n",
    "\n",
    "# Exibindo as informações das competições disponíveis\n",
    "#df_competition.info()"
   ]
  },
  {
   "cell_type": "code",
   "execution_count": 59,
   "id": "d5ba27d5-9c1f-4d09-8a51-d1f325b4ed03",
   "metadata": {},
   "outputs": [],
   "source": [
    "#df_competition"
   ]
  },
  {
   "cell_type": "code",
   "execution_count": 60,
   "id": "091da810-0d9a-4f46-b7d3-ea4d4b8e1a1a",
   "metadata": {},
   "outputs": [],
   "source": [
    "# Verificando quais dessas competições são de futebol feminino\n",
    "df_female_competitions = df_competition.loc[df_competition['competition_gender'] == \"female\"]\n",
    "\n",
    "# Exibindo as competições filtradas\n",
    "#df_female_competitions"
   ]
  },
  {
   "cell_type": "code",
   "execution_count": 61,
   "id": "7eee45d8-62f1-4c94-b7d0-e3dce67cd1a1",
   "metadata": {},
   "outputs": [],
   "source": [
    "## \n",
    "# Extraindo os dados de todas as partidas da competição Women's World Cup - 2023\n",
    "# competition_id = 72 e season_id = 107\n",
    "## \n",
    "df_matches = parser.match(competition_id = 72, season_id = 107)\n",
    "\n",
    "# Resumo da quantidade de dados\n",
    "# df_matches.info()"
   ]
  },
  {
   "cell_type": "code",
   "execution_count": 62,
   "id": "c028626f-200e-46e2-b22f-7f29e611bac4",
   "metadata": {},
   "outputs": [],
   "source": [
    "# df_matches"
   ]
  },
  {
   "cell_type": "code",
   "execution_count": 36,
   "id": "8e1dba27-f7d2-4926-8a92-0f1b6bf9cdb3",
   "metadata": {},
   "outputs": [],
   "source": [
    "# Percorrendo o data frame de partidas\n",
    "#for index, row in df_matches.iterrows():\n",
    "#    print(row['match_id'], row['match_date'])\n",
    "    \n",
    "    # Extrai o Id daquela partida\n",
    "#    match_id = row['match_id']\n",
    "\n",
    "    # Extrai os eventos daquela partida fornecendo seu Id para o parser\n",
    "#   df_event, df_related, df_freeze, df_tatics = parser(match_id)"
   ]
  },
  {
   "cell_type": "code",
   "execution_count": 56,
   "id": "31a7faa5-54b1-406a-ae84-19b91184bc4b",
   "metadata": {},
   "outputs": [
    {
     "name": "stdout",
     "output_type": "stream",
     "text": [
      "Australia Women's\n",
      "1205\n",
      "England Women's\n",
      "865\n"
     ]
    }
   ],
   "source": [
    "# Extraindo o data frame contendo os dados da partida específica\n",
    "df_current_match = df_matches.loc[df_matches['match_id'] == 3904629]\n",
    "\n",
    "# Extraindo o nome e id do time da casa\n",
    "match_home_team = df_current_match.iloc[0][\"home_team_name\"]\n",
    "match_home_team_id = df_current_match.iloc[0][\"home_team_id\"]\n",
    "\n",
    "print(str(match_home_team))\n",
    "print(str(match_home_team_id))\n",
    "\n",
    "# Extraindo o nome e id do time de fora\n",
    "match_away_team = df_current_match.iloc[0][\"away_team_name\"]\n",
    "match_away_team_id = df_current_match.iloc[0][\"away_team_id\"]\n",
    "\n",
    "print(str(match_away_team))\n",
    "print(str(match_away_team_id))"
   ]
  },
  {
   "cell_type": "code",
   "execution_count": 33,
   "id": "1c22bd5c-c458-4330-972d-cf1c506da4ca",
   "metadata": {},
   "outputs": [],
   "source": [
    "# Extrai os eventos de uma partida fornecendo seu Id para o parser\n",
    "df_events, related, freeze, tatics = parser.event(3904629)"
   ]
  },
  {
   "cell_type": "code",
   "execution_count": 63,
   "id": "2c98ad78-9c5f-4cf6-8d0c-f79d003515d8",
   "metadata": {},
   "outputs": [],
   "source": [
    "# Percorrendo o data frame de eventos da partida\n",
    "#for index, row in df_events.iterrows():\n",
    "    #print(row['type_name'])"
   ]
  },
  {
   "cell_type": "markdown",
   "id": "2385d82c-335d-46f2-97fc-5d58c986fcf2",
   "metadata": {},
   "source": [
    "### Extraindo os dados dos passes"
   ]
  },
  {
   "cell_type": "code",
   "execution_count": 96,
   "id": "ee66ce19-b880-451a-a7dd-fcefe130148b",
   "metadata": {},
   "outputs": [],
   "source": [
    "# Procurando por eventos de substituição no jogo - (Time da Casa)\n",
    "substitutions = df_events.loc[df_events[\"type_name\"] == \"Substitution\"]\n",
    "home_team_subs = substitutions.loc[substitutions[\"team_name\"] == match_home_team]\n",
    "\n",
    "# Extrai o índice do primeiro evento de substituição - (Time da Casa)\n",
    "ht_first_sub_index = home_team_subs.iloc[0][\"index\"]\n",
    "\n",
    "# Extraindo todos os eventos de passe da partida\n",
    "match_passes = df_events.loc[df_events[\"type_name\"] == \"Pass\"]\n",
    "# Extraindo os eventos de passe - (Time da Casa)\n",
    "home_team_passes = match_passes.loc[match_passes[\"team_name\"] == match_home_team]\n",
    "\n",
    "# Removendo eventos de Lateral\n",
    "home_team_passes = home_team_passes.loc[match_passes.sub_type_name != \"Throw-in\"]\n",
    "\n",
    "# Os passes bem sucedidos são aqueles nos quais o outcome_name é nulo\n",
    "# Extraindo os passes bem sucedidos - (Time da Casa)\n",
    "ht_succesful_passes = home_team_passes.loc[home_team_passes[\"outcome_name\"].isnull()]\n",
    "\n",
    "## \n",
    "# Os passes que aconteceram antes da primeira substituição têm id menor que o do evento de substituição. \n",
    "# Os ids dos eventos são sequenciais\n",
    "## \n",
    "ht_first_sub_passes = ht_succesful_passes.loc[ht_succesful_passes[\"index\"] < ht_first_sub_index]\n",
    "\n",
    "## Extraindo os dados necessários para a rede de passes\n",
    "# x: coordenada x de início do passe\n",
    "# y: coordenada y de início do passe\n",
    "# end_x: coordenada x de fim do passe\n",
    "# end_y: coordenada y de fim do passe\n",
    "# player_name: jogador que inicia o passe\n",
    "# pass_recipient_name: jogador que recebe o passe\n",
    "##\n",
    "ht_first_sub_passes = ht_first_sub_passes[['x', 'y', 'end_x', 'end_y', \"player_name\", \"pass_recipient_name\"]]\n",
    "\n",
    "# Formatando o nome das jogadoras para que apenas o sobrenome delas seja exibido\n",
    "ht_first_sub_passes[\"player_name\"] = ht_first_sub_passes[\"player_name\"].apply(lambda x: str(x).split()[-1])\n",
    "ht_first_sub_passes[\"pass_recipient_name\"] = ht_first_sub_passes[\"pass_recipient_name\"].apply(lambda x: str(x).split()[-1])"
   ]
  },
  {
   "cell_type": "markdown",
   "id": "eb2f31fb-cb4a-43fa-9ccc-8b8329f9b447",
   "metadata": {},
   "source": [
    "### Calculando o tamanho e localização dos nós"
   ]
  },
  {
   "cell_type": "code",
   "execution_count": null,
   "id": "32c4587f-d0b0-482d-877c-e4d0a34eb41c",
   "metadata": {},
   "outputs": [],
   "source": []
  },
  {
   "cell_type": "code",
   "execution_count": null,
   "id": "c0d8af18-2f8f-41b5-8d8d-865ea2bf85fd",
   "metadata": {},
   "outputs": [],
   "source": []
  },
  {
   "cell_type": "code",
   "execution_count": null,
   "id": "c881de81-0720-4e13-a06f-763a523460fb",
   "metadata": {},
   "outputs": [],
   "source": []
  },
  {
   "cell_type": "code",
   "execution_count": null,
   "id": "c32dc718-85c2-41f5-879f-b1775a2afd8a",
   "metadata": {},
   "outputs": [],
   "source": [
    "# Procurando por eventos de substituição no jogo - (Time da Casa)\n",
    "substitutions = df_events.loc[df_events[\"type_name\"] == \"Substitution\"]\n",
    "home_team_subs = substitutions.loc[substitutions[\"team_name\"] == match_home_team]\n",
    "away_team_subs = substitutions.loc[substitutions[\"team_name\"] == match_away_team]\n",
    "\n",
    "# Extrai o índice do primeiro evento de substituição - (Time da Casa)\n",
    "ht_first_sub_index = home_team_subs.iloc[0][\"index\"]\n",
    "at_first_sub_index = away_team_subs.iloc[0][\"index\"]\n",
    "\n",
    "# Extraindo todos os eventos de passe da partida\n",
    "match_passes = df_events.loc[df_events[\"type_name\"] == \"Pass\"]\n",
    "# Extraindo os eventos de passe - (Time da Casa)\n",
    "home_team_passes = match_passes.loc[match_passes[\"team_name\"] == match_home_team]\n",
    "# Extraindo os eventos de passe - (Time de Fora)\n",
    "away_team_passes = match_passes.loc[match_passes[\"team_name\"] == match_away_team]\n",
    "\n",
    "# Removendo eventos de Lateral\n",
    "# Extraindo os eventos de passe - (Time da Casa)\n",
    "home_team_passes = home_team_passes.loc[match_passes.sub_type_name != \"Throw-in\"]\n",
    "# Extraindo os eventos de passe - (Time de Fora)\n",
    "away_team_passes = away_team_passes.loc[match_passes.sub_type_name != \"Throw-in\"]\n",
    "\n",
    "# Os passes bem sucedidos são aqueles nos quais o outcome_name é nulo\n",
    "# Extraindo os passes bem sucedidos - (Time da Casa)\n",
    "ht_succesful_passes = home_team_passes.loc[home_team_passes[\"outcome_name\"].isnull()]\n",
    "# Extraindo os passes bem sucedidos - (Time de Fora)\n",
    "at_succesful_passes = away_team_passes.loc[away_team_passes[\"outcome_name\"].isnull()]\n",
    "\n",
    "## \n",
    "# Os passes que aconteceram antes da primeira substituição têm id menor que o do evento de substituição. \n",
    "# Os ids dos eventos são sequenciais\n",
    "## \n",
    "ht_first_sub_passes = ht_succesful_passes.loc[ht_succesful_passes[\"index\"] < ht_first_sub_index]\n",
    "at_first_sub_passes = at_succesful_passes.loc[at_succesful_passes[\"index\"] < at_first_sub_index]\n",
    "\n"
   ]
  },
  {
   "cell_type": "code",
   "execution_count": 87,
   "id": "114c7629-46c3-4249-8c16-f4a165f003d7",
   "metadata": {},
   "outputs": [
    {
     "data": {
      "text/plain": [
       "{'Incomplete', 'Out', 'Unknown', nan}"
      ]
     },
     "execution_count": 87,
     "metadata": {},
     "output_type": "execute_result"
    }
   ],
   "source": [
    "# Validando quais são os possíveis resultados para uma tentativa de passe\n",
    "passes_outcomes = set(away_team_passes[\"outcome_name\"])\n",
    "passes_outcomes"
   ]
  },
  {
   "cell_type": "markdown",
   "id": "7c3c29c5-5694-4c17-8847-dacfabb35a91",
   "metadata": {},
   "source": [
    "Um passe pode ser incompleto, para fora, desconhecido ou nan\n",
    "\n",
    "{'Incomplete', 'Out', 'Unknown', nan}"
   ]
  },
  {
   "cell_type": "code",
   "execution_count": 75,
   "id": "e2c92fee-0ec0-4c1f-b8f0-b447f2ef8007",
   "metadata": {},
   "outputs": [
    {
     "data": {
      "text/plain": [
       "{'Corner',\n",
       " 'Free Kick',\n",
       " 'Goal Kick',\n",
       " 'Interception',\n",
       " 'Kick Off',\n",
       " 'Recovery',\n",
       " 'Throw-in',\n",
       " nan}"
      ]
     },
     "execution_count": 75,
     "metadata": {},
     "output_type": "execute_result"
    }
   ],
   "source": [
    "# Validando quais são os possíveis tipos de passes\n",
    "passes_subtypes = set(away_team_passes[\"sub_type_name\"])\n",
    "passes_subtypes"
   ]
  }
 ],
 "metadata": {
  "kernelspec": {
   "display_name": ".graph_env",
   "language": "python",
   "name": ".graph_env"
  },
  "language_info": {
   "codemirror_mode": {
    "name": "ipython",
    "version": 3
   },
   "file_extension": ".py",
   "mimetype": "text/x-python",
   "name": "python",
   "nbconvert_exporter": "python",
   "pygments_lexer": "ipython3",
   "version": "3.12.4"
  }
 },
 "nbformat": 4,
 "nbformat_minor": 5
}
